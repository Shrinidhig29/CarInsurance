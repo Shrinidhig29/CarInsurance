{
 "cells": [
  {
   "cell_type": "markdown",
   "metadata": {},
   "source": [
    "**IMPORT NECESSARY LIBRARIES FOR THE PROJECT**"
   ]
  },
  {
   "cell_type": "code",
   "execution_count": 1,
   "metadata": {},
   "outputs": [],
   "source": [
    "import seaborn as sns"
   ]
  },
  {
   "cell_type": "code",
   "execution_count": 2,
   "metadata": {},
   "outputs": [],
   "source": [
    "# import the modules\n",
    "\n",
    "import pandas as pd\n",
    "import numpy as np\n"
   ]
  },
  {
   "cell_type": "markdown",
   "metadata": {},
   "source": [
    "### Load the dataset\n",
    "\n",
    "- Load the train data and using all your knowledge try to explore the different statistical properties of the dataset."
   ]
  },
  {
   "cell_type": "code",
   "execution_count": 3,
   "metadata": {},
   "outputs": [],
   "source": [
    "# Code starts here\n",
    "df_train = pd.read_csv(r\"C:\\Users\\nidhi\\Desktop\\Hackton\\Car Insurance Claim\\data\\train.csv\")\n",
    "df_test = pd.read_csv(r\"C:\\Users\\nidhi\\Desktop\\Hackton\\Car Insurance Claim\\data\\test.csv\")\n",
    "\n",
    "df_train.drop(columns='Unnamed: 0',inplace=True)\n",
    "df_test.drop(columns='Unnamed: 0',inplace=True)\n",
    "\n",
    "\n",
    "# Code ends here"
   ]
  },
  {
   "cell_type": "code",
   "execution_count": 4,
   "metadata": {
    "scrolled": true
   },
   "outputs": [
    {
     "data": {
      "text/html": [
       "<div>\n",
       "<style scoped>\n",
       "    .dataframe tbody tr th:only-of-type {\n",
       "        vertical-align: middle;\n",
       "    }\n",
       "\n",
       "    .dataframe tbody tr th {\n",
       "        vertical-align: top;\n",
       "    }\n",
       "\n",
       "    .dataframe thead th {\n",
       "        text-align: right;\n",
       "    }\n",
       "</style>\n",
       "<table border=\"1\" class=\"dataframe\">\n",
       "  <thead>\n",
       "    <tr style=\"text-align: right;\">\n",
       "      <th></th>\n",
       "      <th>ID</th>\n",
       "      <th>KIDSDRIV</th>\n",
       "      <th>AGE</th>\n",
       "      <th>HOMEKIDS</th>\n",
       "      <th>YOJ</th>\n",
       "      <th>INCOME</th>\n",
       "      <th>PARENT1</th>\n",
       "      <th>HOME_VAL</th>\n",
       "      <th>MSTATUS</th>\n",
       "      <th>GENDER</th>\n",
       "      <th>...</th>\n",
       "      <th>TIF</th>\n",
       "      <th>CAR_TYPE</th>\n",
       "      <th>RED_CAR</th>\n",
       "      <th>OLDCLAIM</th>\n",
       "      <th>CLM_FREQ</th>\n",
       "      <th>REVOKED</th>\n",
       "      <th>MVR_PTS</th>\n",
       "      <th>CLM_AMT</th>\n",
       "      <th>CAR_AGE</th>\n",
       "      <th>CLAIM_FLAG</th>\n",
       "    </tr>\n",
       "  </thead>\n",
       "  <tbody>\n",
       "    <tr>\n",
       "      <th>0</th>\n",
       "      <td>531817639</td>\n",
       "      <td>1</td>\n",
       "      <td>42.0</td>\n",
       "      <td>3</td>\n",
       "      <td>9.0</td>\n",
       "      <td>$4,701</td>\n",
       "      <td>No</td>\n",
       "      <td>$0</td>\n",
       "      <td>Yes</td>\n",
       "      <td>z_F</td>\n",
       "      <td>...</td>\n",
       "      <td>1</td>\n",
       "      <td>Sports Car</td>\n",
       "      <td>no</td>\n",
       "      <td>$0</td>\n",
       "      <td>0</td>\n",
       "      <td>No</td>\n",
       "      <td>4</td>\n",
       "      <td>$0</td>\n",
       "      <td>9.0</td>\n",
       "      <td>1</td>\n",
       "    </tr>\n",
       "    <tr>\n",
       "      <th>1</th>\n",
       "      <td>738075150</td>\n",
       "      <td>0</td>\n",
       "      <td>50.0</td>\n",
       "      <td>0</td>\n",
       "      <td>7.0</td>\n",
       "      <td>$10,232</td>\n",
       "      <td>No</td>\n",
       "      <td>$129,979</td>\n",
       "      <td>Yes</td>\n",
       "      <td>z_F</td>\n",
       "      <td>...</td>\n",
       "      <td>16</td>\n",
       "      <td>Minivan</td>\n",
       "      <td>no</td>\n",
       "      <td>$5,458</td>\n",
       "      <td>2</td>\n",
       "      <td>No</td>\n",
       "      <td>3</td>\n",
       "      <td>$0</td>\n",
       "      <td>18.0</td>\n",
       "      <td>0</td>\n",
       "    </tr>\n",
       "    <tr>\n",
       "      <th>2</th>\n",
       "      <td>176935775</td>\n",
       "      <td>0</td>\n",
       "      <td>40.0</td>\n",
       "      <td>2</td>\n",
       "      <td>17.0</td>\n",
       "      <td>$66,200</td>\n",
       "      <td>Yes</td>\n",
       "      <td>$223,960</td>\n",
       "      <td>z_No</td>\n",
       "      <td>z_F</td>\n",
       "      <td>...</td>\n",
       "      <td>13</td>\n",
       "      <td>z_SUV</td>\n",
       "      <td>no</td>\n",
       "      <td>$0</td>\n",
       "      <td>0</td>\n",
       "      <td>No</td>\n",
       "      <td>1</td>\n",
       "      <td>$629</td>\n",
       "      <td>9.0</td>\n",
       "      <td>1</td>\n",
       "    </tr>\n",
       "    <tr>\n",
       "      <th>3</th>\n",
       "      <td>195054268</td>\n",
       "      <td>2</td>\n",
       "      <td>38.0</td>\n",
       "      <td>2</td>\n",
       "      <td>13.0</td>\n",
       "      <td>$34,056</td>\n",
       "      <td>No</td>\n",
       "      <td>$122,908</td>\n",
       "      <td>Yes</td>\n",
       "      <td>z_F</td>\n",
       "      <td>...</td>\n",
       "      <td>4</td>\n",
       "      <td>Sports Car</td>\n",
       "      <td>no</td>\n",
       "      <td>$502</td>\n",
       "      <td>1</td>\n",
       "      <td>No</td>\n",
       "      <td>5</td>\n",
       "      <td>$0</td>\n",
       "      <td>2.0</td>\n",
       "      <td>0</td>\n",
       "    </tr>\n",
       "    <tr>\n",
       "      <th>4</th>\n",
       "      <td>764551255</td>\n",
       "      <td>0</td>\n",
       "      <td>38.0</td>\n",
       "      <td>0</td>\n",
       "      <td>NaN</td>\n",
       "      <td>$45,734</td>\n",
       "      <td>No</td>\n",
       "      <td>$222,653</td>\n",
       "      <td>Yes</td>\n",
       "      <td>M</td>\n",
       "      <td>...</td>\n",
       "      <td>1</td>\n",
       "      <td>Pickup</td>\n",
       "      <td>no</td>\n",
       "      <td>$3,296</td>\n",
       "      <td>1</td>\n",
       "      <td>No</td>\n",
       "      <td>3</td>\n",
       "      <td>$2,156</td>\n",
       "      <td>2.0</td>\n",
       "      <td>1</td>\n",
       "    </tr>\n",
       "  </tbody>\n",
       "</table>\n",
       "<p>5 rows × 25 columns</p>\n",
       "</div>"
      ],
      "text/plain": [
       "          ID  KIDSDRIV   AGE  HOMEKIDS   YOJ   INCOME PARENT1  HOME_VAL  \\\n",
       "0  531817639         1  42.0         3   9.0   $4,701      No        $0   \n",
       "1  738075150         0  50.0         0   7.0  $10,232      No  $129,979   \n",
       "2  176935775         0  40.0         2  17.0  $66,200     Yes  $223,960   \n",
       "3  195054268         2  38.0         2  13.0  $34,056      No  $122,908   \n",
       "4  764551255         0  38.0         0   NaN  $45,734      No  $222,653   \n",
       "\n",
       "  MSTATUS GENDER  ... TIF    CAR_TYPE  RED_CAR OLDCLAIM CLM_FREQ  REVOKED  \\\n",
       "0     Yes    z_F  ...   1  Sports Car       no       $0        0       No   \n",
       "1     Yes    z_F  ...  16     Minivan       no   $5,458        2       No   \n",
       "2    z_No    z_F  ...  13       z_SUV       no       $0        0       No   \n",
       "3     Yes    z_F  ...   4  Sports Car       no     $502        1       No   \n",
       "4     Yes      M  ...   1      Pickup       no   $3,296        1       No   \n",
       "\n",
       "  MVR_PTS CLM_AMT CAR_AGE  CLAIM_FLAG  \n",
       "0       4      $0     9.0           1  \n",
       "1       3      $0    18.0           0  \n",
       "2       1    $629     9.0           1  \n",
       "3       5      $0     2.0           0  \n",
       "4       3  $2,156     2.0           1  \n",
       "\n",
       "[5 rows x 25 columns]"
      ]
     },
     "execution_count": 4,
     "metadata": {},
     "output_type": "execute_result"
    }
   ],
   "source": [
    "df_train.head()\n"
   ]
  },
  {
   "cell_type": "markdown",
   "metadata": {},
   "source": [
    "Obersvation:\n",
    "* ID: its total number of id (need to check if there is any duplicate values/ids)\n",
    "* KIDSDRIV: check null values and unique character \n",
    "* AGE: need normalization (can be changed from float to int)\n",
    "* HOMEKIDS: can be dropped (domain knowledge required)\n",
    "* YOJ: replace nan values to median/mode value\n",
    "* INCOME: remove $ and , \n",
    "* PERENT1: convert to binary values by onehot encoding\n",
    "* HOME VAL: remove $ and ,\n",
    "* MSTATUS: convert to binary values by onehot encoding\n",
    "* GENDER: convert to binary values by onehot encoding\n",
    "* BLUEBOOK: domain knowledge required\n",
    "* "
   ]
  },
  {
   "cell_type": "code",
   "execution_count": 5,
   "metadata": {},
   "outputs": [
    {
     "data": {
      "text/html": [
       "<div>\n",
       "<style scoped>\n",
       "    .dataframe tbody tr th:only-of-type {\n",
       "        vertical-align: middle;\n",
       "    }\n",
       "\n",
       "    .dataframe tbody tr th {\n",
       "        vertical-align: top;\n",
       "    }\n",
       "\n",
       "    .dataframe thead th {\n",
       "        text-align: right;\n",
       "    }\n",
       "</style>\n",
       "<table border=\"1\" class=\"dataframe\">\n",
       "  <thead>\n",
       "    <tr style=\"text-align: right;\">\n",
       "      <th></th>\n",
       "      <th>ID</th>\n",
       "      <th>KIDSDRIV</th>\n",
       "      <th>AGE</th>\n",
       "      <th>HOMEKIDS</th>\n",
       "      <th>YOJ</th>\n",
       "      <th>INCOME</th>\n",
       "      <th>PARENT1</th>\n",
       "      <th>HOME_VAL</th>\n",
       "      <th>MSTATUS</th>\n",
       "      <th>GENDER</th>\n",
       "      <th>...</th>\n",
       "      <th>BLUEBOOK</th>\n",
       "      <th>TIF</th>\n",
       "      <th>CAR_TYPE</th>\n",
       "      <th>RED_CAR</th>\n",
       "      <th>OLDCLAIM</th>\n",
       "      <th>CLM_FREQ</th>\n",
       "      <th>REVOKED</th>\n",
       "      <th>MVR_PTS</th>\n",
       "      <th>CLM_AMT</th>\n",
       "      <th>CAR_AGE</th>\n",
       "    </tr>\n",
       "  </thead>\n",
       "  <tbody>\n",
       "    <tr>\n",
       "      <th>0</th>\n",
       "      <td>968418547</td>\n",
       "      <td>0</td>\n",
       "      <td>36.0</td>\n",
       "      <td>2</td>\n",
       "      <td>14.0</td>\n",
       "      <td>$58,833</td>\n",
       "      <td>No</td>\n",
       "      <td>$193,644</td>\n",
       "      <td>Yes</td>\n",
       "      <td>M</td>\n",
       "      <td>...</td>\n",
       "      <td>$17,680</td>\n",
       "      <td>1</td>\n",
       "      <td>Van</td>\n",
       "      <td>yes</td>\n",
       "      <td>$0</td>\n",
       "      <td>0</td>\n",
       "      <td>Yes</td>\n",
       "      <td>2</td>\n",
       "      <td>$4,611</td>\n",
       "      <td>11.0</td>\n",
       "    </tr>\n",
       "    <tr>\n",
       "      <th>1</th>\n",
       "      <td>59213729</td>\n",
       "      <td>0</td>\n",
       "      <td>47.0</td>\n",
       "      <td>0</td>\n",
       "      <td>NaN</td>\n",
       "      <td>$35,259</td>\n",
       "      <td>No</td>\n",
       "      <td>$0</td>\n",
       "      <td>z_No</td>\n",
       "      <td>M</td>\n",
       "      <td>...</td>\n",
       "      <td>$12,850</td>\n",
       "      <td>4</td>\n",
       "      <td>Minivan</td>\n",
       "      <td>no</td>\n",
       "      <td>$1,304</td>\n",
       "      <td>1</td>\n",
       "      <td>No</td>\n",
       "      <td>5</td>\n",
       "      <td>$0</td>\n",
       "      <td>14.0</td>\n",
       "    </tr>\n",
       "    <tr>\n",
       "      <th>2</th>\n",
       "      <td>653092892</td>\n",
       "      <td>0</td>\n",
       "      <td>48.0</td>\n",
       "      <td>0</td>\n",
       "      <td>11.0</td>\n",
       "      <td>$126,442</td>\n",
       "      <td>No</td>\n",
       "      <td>$0</td>\n",
       "      <td>z_No</td>\n",
       "      <td>M</td>\n",
       "      <td>...</td>\n",
       "      <td>$7,820</td>\n",
       "      <td>7</td>\n",
       "      <td>Pickup</td>\n",
       "      <td>yes</td>\n",
       "      <td>$0</td>\n",
       "      <td>0</td>\n",
       "      <td>No</td>\n",
       "      <td>0</td>\n",
       "      <td>$0</td>\n",
       "      <td>12.0</td>\n",
       "    </tr>\n",
       "    <tr>\n",
       "      <th>3</th>\n",
       "      <td>475325469</td>\n",
       "      <td>0</td>\n",
       "      <td>46.0</td>\n",
       "      <td>0</td>\n",
       "      <td>9.0</td>\n",
       "      <td>$71,192</td>\n",
       "      <td>No</td>\n",
       "      <td>$263,204</td>\n",
       "      <td>Yes</td>\n",
       "      <td>z_F</td>\n",
       "      <td>...</td>\n",
       "      <td>$6,360</td>\n",
       "      <td>1</td>\n",
       "      <td>z_SUV</td>\n",
       "      <td>no</td>\n",
       "      <td>$0</td>\n",
       "      <td>0</td>\n",
       "      <td>No</td>\n",
       "      <td>0</td>\n",
       "      <td>$0</td>\n",
       "      <td>18.0</td>\n",
       "    </tr>\n",
       "    <tr>\n",
       "      <th>4</th>\n",
       "      <td>837299054</td>\n",
       "      <td>0</td>\n",
       "      <td>46.0</td>\n",
       "      <td>0</td>\n",
       "      <td>12.0</td>\n",
       "      <td>$67,381</td>\n",
       "      <td>No</td>\n",
       "      <td>$226,928</td>\n",
       "      <td>Yes</td>\n",
       "      <td>z_F</td>\n",
       "      <td>...</td>\n",
       "      <td>$27,630</td>\n",
       "      <td>4</td>\n",
       "      <td>Pickup</td>\n",
       "      <td>no</td>\n",
       "      <td>$6,149</td>\n",
       "      <td>3</td>\n",
       "      <td>No</td>\n",
       "      <td>4</td>\n",
       "      <td>$0</td>\n",
       "      <td>9.0</td>\n",
       "    </tr>\n",
       "  </tbody>\n",
       "</table>\n",
       "<p>5 rows × 24 columns</p>\n",
       "</div>"
      ],
      "text/plain": [
       "          ID  KIDSDRIV   AGE  HOMEKIDS   YOJ    INCOME PARENT1  HOME_VAL  \\\n",
       "0  968418547         0  36.0         2  14.0   $58,833      No  $193,644   \n",
       "1   59213729         0  47.0         0   NaN   $35,259      No        $0   \n",
       "2  653092892         0  48.0         0  11.0  $126,442      No        $0   \n",
       "3  475325469         0  46.0         0   9.0   $71,192      No  $263,204   \n",
       "4  837299054         0  46.0         0  12.0   $67,381      No  $226,928   \n",
       "\n",
       "  MSTATUS GENDER  ... BLUEBOOK TIF  CAR_TYPE RED_CAR OLDCLAIM  CLM_FREQ  \\\n",
       "0     Yes      M  ...  $17,680   1       Van     yes       $0         0   \n",
       "1    z_No      M  ...  $12,850   4   Minivan      no   $1,304         1   \n",
       "2    z_No      M  ...   $7,820   7    Pickup     yes       $0         0   \n",
       "3     Yes    z_F  ...   $6,360   1     z_SUV      no       $0         0   \n",
       "4     Yes    z_F  ...  $27,630   4    Pickup      no   $6,149         3   \n",
       "\n",
       "  REVOKED MVR_PTS CLM_AMT  CAR_AGE  \n",
       "0     Yes       2  $4,611     11.0  \n",
       "1      No       5      $0     14.0  \n",
       "2      No       0      $0     12.0  \n",
       "3      No       0      $0     18.0  \n",
       "4      No       4      $0      9.0  \n",
       "\n",
       "[5 rows x 24 columns]"
      ]
     },
     "execution_count": 5,
     "metadata": {},
     "output_type": "execute_result"
    }
   ],
   "source": [
    "df_test.head()"
   ]
  },
  {
   "cell_type": "code",
   "execution_count": 6,
   "metadata": {},
   "outputs": [
    {
     "data": {
      "text/plain": [
       "(8241, 25)"
      ]
     },
     "execution_count": 6,
     "metadata": {},
     "output_type": "execute_result"
    }
   ],
   "source": [
    "df_train.shape"
   ]
  },
  {
   "cell_type": "code",
   "execution_count": 7,
   "metadata": {},
   "outputs": [],
   "source": [
    "cat_var = df_train.select_dtypes(exclude=\"number\")"
   ]
  },
  {
   "cell_type": "code",
   "execution_count": 8,
   "metadata": {
    "scrolled": true
   },
   "outputs": [
    {
     "data": {
      "text/plain": [
       "Index(['INCOME', 'PARENT1', 'HOME_VAL', 'MSTATUS', 'GENDER', 'EDUCATION',\n",
       "       'OCCUPATION', 'CAR_USE', 'BLUEBOOK', 'CAR_TYPE', 'RED_CAR', 'OLDCLAIM',\n",
       "       'REVOKED', 'CLM_AMT'],\n",
       "      dtype='object')"
      ]
     },
     "execution_count": 8,
     "metadata": {},
     "output_type": "execute_result"
    }
   ],
   "source": [
    "cat_var.columns"
   ]
  },
  {
   "cell_type": "code",
   "execution_count": 9,
   "metadata": {
    "scrolled": true
   },
   "outputs": [
    {
     "name": "stdout",
     "output_type": "stream",
     "text": [
      "['z_F' 'M']\n",
      "['z_High School' 'Masters' 'Bachelors' '<High School' 'PhD']\n",
      "['Student' 'Home Maker' 'Manager' 'z_Blue Collar' 'Professional' 'Lawyer'\n",
      " 'Clerical' nan 'Doctor']\n",
      "['$5,900' '$24,470' '$17,260' ... '$45,480' '$12,920' '$4,990']\n",
      "['Sports Car' 'Minivan' 'z_SUV' 'Pickup' 'Panel Truck' 'Van']\n",
      "['no' 'yes']\n",
      "['No' 'Yes']\n",
      "['No' 'Yes']\n",
      "['Yes' 'z_No']\n",
      "['Private' 'Commercial']\n"
     ]
    }
   ],
   "source": [
    "print(df_train['GENDER'].unique())\n",
    "print(df_train['EDUCATION'].unique())\n",
    "print(df_train['OCCUPATION'].unique())\n",
    "print(df_train['BLUEBOOK'].unique())\n",
    "print(df_train['CAR_TYPE'].unique())\n",
    "print(df_train['RED_CAR'].unique())\n",
    "print(df_train['REVOKED'].unique())\n",
    "print(df_train['PARENT1'].unique())\n",
    "print(df_train['MSTATUS'].unique())\n",
    "print(df_train['CAR_USE'].unique())\n",
    "# print(df['CLM_AMT'].unique())"
   ]
  },
  {
   "cell_type": "code",
   "execution_count": 10,
   "metadata": {},
   "outputs": [
    {
     "name": "stdout",
     "output_type": "stream",
     "text": [
      "7779\n",
      "7783\n",
      "8241\n"
     ]
    }
   ],
   "source": [
    "print(df_train['INCOME'].value_counts().sum())\n",
    "print(df_train['HOME_VAL'].value_counts().sum())\n",
    "print(df_train['OLDCLAIM'].value_counts().sum())"
   ]
  },
  {
   "cell_type": "code",
   "execution_count": 11,
   "metadata": {},
   "outputs": [],
   "source": [
    "num_var = df_train.select_dtypes(include=\"number\")"
   ]
  },
  {
   "cell_type": "code",
   "execution_count": 12,
   "metadata": {},
   "outputs": [
    {
     "data": {
      "text/plain": [
       "Index(['ID', 'KIDSDRIV', 'AGE', 'HOMEKIDS', 'YOJ', 'TRAVTIME', 'TIF',\n",
       "       'CLM_FREQ', 'MVR_PTS', 'CAR_AGE', 'CLAIM_FLAG'],\n",
       "      dtype='object')"
      ]
     },
     "execution_count": 12,
     "metadata": {},
     "output_type": "execute_result"
    }
   ],
   "source": [
    "num_var.columns"
   ]
  },
  {
   "cell_type": "code",
   "execution_count": 13,
   "metadata": {
    "scrolled": true
   },
   "outputs": [
    {
     "name": "stdout",
     "output_type": "stream",
     "text": [
      "[1 0 2 3 4]\n",
      "[42. 50. 40. 38. 43. 52. 58. 49. 45. 47. 46. 44. 37. 41. 36. 31. 48. 51.\n",
      " 54. 55. 56. 32. 53. 33. 22. 60. 57. 34. 63. 67. 27. 30. 39. 25. 21. 61.\n",
      " 35. 65. nan 29. 59. 62. 23. 64. 26. 79. 28. 72. 20. 24. 18. 68. 19. 69.\n",
      " 66. 70. 71. 17. 75. 14. 16. 76. 73. 15. 74.]\n",
      "[3 0 2 1 4 5]\n",
      "[ 9.  7. 17. 13. nan  0. 11. 12. 10. 16.  5.  8. 15.  6. 18. 14.  4. 23.\n",
      " 19.  3.  1.  2.]\n",
      "[ 12  33  53  29   5  37  43  32  60  47  55  77  44  40  57  26  17  46\n",
      "  41  11  27  23  25  14  16  38  31  51  36   9  39  34  35  21  28  49\n",
      "  13  64  63  88  48  62  15  52  30  24  45  19  18  20  50  10  56  54\n",
      "  42   7  65  59  58   6  22  70  75  69  68   8  86  67  61  71  66  83\n",
      "  85 134  72  80  79 105  76  74  97  90  95  73  81 101  78  84 113  82\n",
      "  89  87 142 103  99 124]\n",
      "[ 1 16 13  4  3 10  5  6  9  7 17 11  8 12 15 18 19 14 21  2 20 25 22]\n",
      "[0 2 1 3 5 4]\n",
      "[ 4  3  1  5  0  2  7  6  9  8 11 10 13 12]\n",
      "[ 9. 18.  2.  1. nan 15.  7.  5.  8. 10.  6.  4. 12. 23. -1. 22.  3. 11.\n",
      "  0. 13. 19. 14. 21. 16. 17. 25. 20. 24. 26. 27. 28.]\n",
      "[1 0]\n"
     ]
    }
   ],
   "source": [
    "print(df_train['KIDSDRIV'].unique())\n",
    "print(df_train['AGE'].unique())\n",
    "print(df_train['HOMEKIDS'].unique())\n",
    "print(df_train['YOJ'].unique())\n",
    "print(df_train['TRAVTIME'].unique())\n",
    "print(df_train['TIF'].unique())\n",
    "print(df_train['CLM_FREQ'].unique())\n",
    "print(df_train['MVR_PTS'].unique())\n",
    "print(df_train['CAR_AGE'].unique())\n",
    "print(df_train['CLAIM_FLAG'].unique())"
   ]
  },
  {
   "cell_type": "markdown",
   "metadata": {},
   "source": [
    "## Clean the data, remove correlated features and apply some data preprocessing techniques"
   ]
  },
  {
   "cell_type": "code",
   "execution_count": 14,
   "metadata": {},
   "outputs": [
    {
     "data": {
      "text/html": [
       "<div>\n",
       "<style scoped>\n",
       "    .dataframe tbody tr th:only-of-type {\n",
       "        vertical-align: middle;\n",
       "    }\n",
       "\n",
       "    .dataframe tbody tr th {\n",
       "        vertical-align: top;\n",
       "    }\n",
       "\n",
       "    .dataframe thead th {\n",
       "        text-align: right;\n",
       "    }\n",
       "</style>\n",
       "<table border=\"1\" class=\"dataframe\">\n",
       "  <thead>\n",
       "    <tr style=\"text-align: right;\">\n",
       "      <th></th>\n",
       "      <th>INCOME</th>\n",
       "      <th>PARENT1</th>\n",
       "      <th>HOME_VAL</th>\n",
       "      <th>MSTATUS</th>\n",
       "      <th>GENDER</th>\n",
       "      <th>EDUCATION</th>\n",
       "      <th>OCCUPATION</th>\n",
       "      <th>CAR_USE</th>\n",
       "      <th>BLUEBOOK</th>\n",
       "      <th>CAR_TYPE</th>\n",
       "      <th>RED_CAR</th>\n",
       "      <th>OLDCLAIM</th>\n",
       "      <th>REVOKED</th>\n",
       "      <th>CLM_AMT</th>\n",
       "    </tr>\n",
       "  </thead>\n",
       "  <tbody>\n",
       "    <tr>\n",
       "      <th>count</th>\n",
       "      <td>7779</td>\n",
       "      <td>8241</td>\n",
       "      <td>7783</td>\n",
       "      <td>8241</td>\n",
       "      <td>8241</td>\n",
       "      <td>8241</td>\n",
       "      <td>7711</td>\n",
       "      <td>8241</td>\n",
       "      <td>8241</td>\n",
       "      <td>8241</td>\n",
       "      <td>8241</td>\n",
       "      <td>8241</td>\n",
       "      <td>8241</td>\n",
       "      <td>8241</td>\n",
       "    </tr>\n",
       "    <tr>\n",
       "      <th>unique</th>\n",
       "      <td>6649</td>\n",
       "      <td>2</td>\n",
       "      <td>5157</td>\n",
       "      <td>2</td>\n",
       "      <td>2</td>\n",
       "      <td>5</td>\n",
       "      <td>8</td>\n",
       "      <td>2</td>\n",
       "      <td>2803</td>\n",
       "      <td>6</td>\n",
       "      <td>2</td>\n",
       "      <td>2922</td>\n",
       "      <td>2</td>\n",
       "      <td>1941</td>\n",
       "    </tr>\n",
       "    <tr>\n",
       "      <th>top</th>\n",
       "      <td>$0</td>\n",
       "      <td>No</td>\n",
       "      <td>$0</td>\n",
       "      <td>Yes</td>\n",
       "      <td>z_F</td>\n",
       "      <td>z_High School</td>\n",
       "      <td>z_Blue Collar</td>\n",
       "      <td>Private</td>\n",
       "      <td>$1,500</td>\n",
       "      <td>z_SUV</td>\n",
       "      <td>no</td>\n",
       "      <td>$0</td>\n",
       "      <td>No</td>\n",
       "      <td>$0</td>\n",
       "    </tr>\n",
       "    <tr>\n",
       "      <th>freq</th>\n",
       "      <td>621</td>\n",
       "      <td>7163</td>\n",
       "      <td>2306</td>\n",
       "      <td>4955</td>\n",
       "      <td>4425</td>\n",
       "      <td>2349</td>\n",
       "      <td>1820</td>\n",
       "      <td>5212</td>\n",
       "      <td>158</td>\n",
       "      <td>2301</td>\n",
       "      <td>5871</td>\n",
       "      <td>5020</td>\n",
       "      <td>7239</td>\n",
       "      <td>6051</td>\n",
       "    </tr>\n",
       "  </tbody>\n",
       "</table>\n",
       "</div>"
      ],
      "text/plain": [
       "       INCOME PARENT1 HOME_VAL MSTATUS GENDER      EDUCATION     OCCUPATION  \\\n",
       "count    7779    8241     7783    8241   8241           8241           7711   \n",
       "unique   6649       2     5157       2      2              5              8   \n",
       "top        $0      No       $0     Yes    z_F  z_High School  z_Blue Collar   \n",
       "freq      621    7163     2306    4955   4425           2349           1820   \n",
       "\n",
       "        CAR_USE BLUEBOOK CAR_TYPE RED_CAR OLDCLAIM REVOKED CLM_AMT  \n",
       "count      8241     8241     8241    8241     8241    8241    8241  \n",
       "unique        2     2803        6       2     2922       2    1941  \n",
       "top     Private   $1,500    z_SUV      no       $0      No      $0  \n",
       "freq       5212      158     2301    5871     5020    7239    6051  "
      ]
     },
     "execution_count": 14,
     "metadata": {},
     "output_type": "execute_result"
    }
   ],
   "source": [
    "df_train.describe(include='object')"
   ]
  },
  {
   "cell_type": "markdown",
   "metadata": {},
   "source": [
    "### considering missing values, we can't drop any rows.\n",
    "### we can remove(homekids) but it requires strong domain knowledge"
   ]
  },
  {
   "cell_type": "code",
   "execution_count": 15,
   "metadata": {
    "scrolled": true
   },
   "outputs": [
    {
     "data": {
      "text/html": [
       "<div>\n",
       "<style scoped>\n",
       "    .dataframe tbody tr th:only-of-type {\n",
       "        vertical-align: middle;\n",
       "    }\n",
       "\n",
       "    .dataframe tbody tr th {\n",
       "        vertical-align: top;\n",
       "    }\n",
       "\n",
       "    .dataframe thead th {\n",
       "        text-align: right;\n",
       "    }\n",
       "</style>\n",
       "<table border=\"1\" class=\"dataframe\">\n",
       "  <thead>\n",
       "    <tr style=\"text-align: right;\">\n",
       "      <th></th>\n",
       "      <th>ID</th>\n",
       "      <th>KIDSDRIV</th>\n",
       "      <th>AGE</th>\n",
       "      <th>HOMEKIDS</th>\n",
       "      <th>YOJ</th>\n",
       "      <th>TRAVTIME</th>\n",
       "      <th>TIF</th>\n",
       "      <th>CLM_FREQ</th>\n",
       "      <th>MVR_PTS</th>\n",
       "      <th>CAR_AGE</th>\n",
       "      <th>CLAIM_FLAG</th>\n",
       "    </tr>\n",
       "  </thead>\n",
       "  <tbody>\n",
       "    <tr>\n",
       "      <th>count</th>\n",
       "      <td>8.241000e+03</td>\n",
       "      <td>8241.000000</td>\n",
       "      <td>8235.000000</td>\n",
       "      <td>8241.000000</td>\n",
       "      <td>7799.000000</td>\n",
       "      <td>8241.000000</td>\n",
       "      <td>8241.000000</td>\n",
       "      <td>8241.000000</td>\n",
       "      <td>8241.000000</td>\n",
       "      <td>7726.000000</td>\n",
       "      <td>8241.000000</td>\n",
       "    </tr>\n",
       "    <tr>\n",
       "      <th>mean</th>\n",
       "      <td>4.955035e+08</td>\n",
       "      <td>0.172309</td>\n",
       "      <td>44.426108</td>\n",
       "      <td>0.726004</td>\n",
       "      <td>10.523657</td>\n",
       "      <td>33.236864</td>\n",
       "      <td>5.333212</td>\n",
       "      <td>0.802937</td>\n",
       "      <td>1.718481</td>\n",
       "      <td>7.793684</td>\n",
       "      <td>0.343041</td>\n",
       "    </tr>\n",
       "    <tr>\n",
       "      <th>std</th>\n",
       "      <td>2.875996e+08</td>\n",
       "      <td>0.508582</td>\n",
       "      <td>9.063494</td>\n",
       "      <td>1.120816</td>\n",
       "      <td>4.084661</td>\n",
       "      <td>15.885290</td>\n",
       "      <td>4.104653</td>\n",
       "      <td>1.155294</td>\n",
       "      <td>2.163546</td>\n",
       "      <td>5.795045</td>\n",
       "      <td>0.474754</td>\n",
       "    </tr>\n",
       "    <tr>\n",
       "      <th>min</th>\n",
       "      <td>6.317500e+04</td>\n",
       "      <td>0.000000</td>\n",
       "      <td>14.000000</td>\n",
       "      <td>0.000000</td>\n",
       "      <td>0.000000</td>\n",
       "      <td>5.000000</td>\n",
       "      <td>1.000000</td>\n",
       "      <td>0.000000</td>\n",
       "      <td>0.000000</td>\n",
       "      <td>-1.000000</td>\n",
       "      <td>0.000000</td>\n",
       "    </tr>\n",
       "    <tr>\n",
       "      <th>25%</th>\n",
       "      <td>2.411094e+08</td>\n",
       "      <td>0.000000</td>\n",
       "      <td>38.000000</td>\n",
       "      <td>0.000000</td>\n",
       "      <td>9.000000</td>\n",
       "      <td>22.000000</td>\n",
       "      <td>1.000000</td>\n",
       "      <td>0.000000</td>\n",
       "      <td>0.000000</td>\n",
       "      <td>2.000000</td>\n",
       "      <td>0.000000</td>\n",
       "    </tr>\n",
       "    <tr>\n",
       "      <th>50%</th>\n",
       "      <td>4.970541e+08</td>\n",
       "      <td>0.000000</td>\n",
       "      <td>45.000000</td>\n",
       "      <td>0.000000</td>\n",
       "      <td>11.000000</td>\n",
       "      <td>33.000000</td>\n",
       "      <td>4.000000</td>\n",
       "      <td>0.000000</td>\n",
       "      <td>1.000000</td>\n",
       "      <td>8.000000</td>\n",
       "      <td>0.000000</td>\n",
       "    </tr>\n",
       "    <tr>\n",
       "      <th>75%</th>\n",
       "      <td>7.406986e+08</td>\n",
       "      <td>0.000000</td>\n",
       "      <td>51.000000</td>\n",
       "      <td>1.000000</td>\n",
       "      <td>13.000000</td>\n",
       "      <td>43.000000</td>\n",
       "      <td>7.000000</td>\n",
       "      <td>2.000000</td>\n",
       "      <td>3.000000</td>\n",
       "      <td>12.000000</td>\n",
       "      <td>1.000000</td>\n",
       "    </tr>\n",
       "    <tr>\n",
       "      <th>max</th>\n",
       "      <td>9.999264e+08</td>\n",
       "      <td>4.000000</td>\n",
       "      <td>79.000000</td>\n",
       "      <td>5.000000</td>\n",
       "      <td>23.000000</td>\n",
       "      <td>142.000000</td>\n",
       "      <td>25.000000</td>\n",
       "      <td>5.000000</td>\n",
       "      <td>13.000000</td>\n",
       "      <td>28.000000</td>\n",
       "      <td>1.000000</td>\n",
       "    </tr>\n",
       "  </tbody>\n",
       "</table>\n",
       "</div>"
      ],
      "text/plain": [
       "                 ID     KIDSDRIV          AGE     HOMEKIDS          YOJ  \\\n",
       "count  8.241000e+03  8241.000000  8235.000000  8241.000000  7799.000000   \n",
       "mean   4.955035e+08     0.172309    44.426108     0.726004    10.523657   \n",
       "std    2.875996e+08     0.508582     9.063494     1.120816     4.084661   \n",
       "min    6.317500e+04     0.000000    14.000000     0.000000     0.000000   \n",
       "25%    2.411094e+08     0.000000    38.000000     0.000000     9.000000   \n",
       "50%    4.970541e+08     0.000000    45.000000     0.000000    11.000000   \n",
       "75%    7.406986e+08     0.000000    51.000000     1.000000    13.000000   \n",
       "max    9.999264e+08     4.000000    79.000000     5.000000    23.000000   \n",
       "\n",
       "          TRAVTIME          TIF     CLM_FREQ      MVR_PTS      CAR_AGE  \\\n",
       "count  8241.000000  8241.000000  8241.000000  8241.000000  7726.000000   \n",
       "mean     33.236864     5.333212     0.802937     1.718481     7.793684   \n",
       "std      15.885290     4.104653     1.155294     2.163546     5.795045   \n",
       "min       5.000000     1.000000     0.000000     0.000000    -1.000000   \n",
       "25%      22.000000     1.000000     0.000000     0.000000     2.000000   \n",
       "50%      33.000000     4.000000     0.000000     1.000000     8.000000   \n",
       "75%      43.000000     7.000000     2.000000     3.000000    12.000000   \n",
       "max     142.000000    25.000000     5.000000    13.000000    28.000000   \n",
       "\n",
       "        CLAIM_FLAG  \n",
       "count  8241.000000  \n",
       "mean      0.343041  \n",
       "std       0.474754  \n",
       "min       0.000000  \n",
       "25%       0.000000  \n",
       "50%       0.000000  \n",
       "75%       1.000000  \n",
       "max       1.000000  "
      ]
     },
     "execution_count": 15,
     "metadata": {},
     "output_type": "execute_result"
    }
   ],
   "source": [
    "df_train.describe()"
   ]
  },
  {
   "cell_type": "markdown",
   "metadata": {},
   "source": [
    "# CHECK FOR MISSING VALUES"
   ]
  },
  {
   "cell_type": "code",
   "execution_count": 16,
   "metadata": {},
   "outputs": [
    {
     "data": {
      "text/plain": [
       "10.523656879087062"
      ]
     },
     "execution_count": 16,
     "metadata": {},
     "output_type": "execute_result"
    }
   ],
   "source": [
    "df_train['YOJ'].mean()"
   ]
  },
  {
   "cell_type": "code",
   "execution_count": 17,
   "metadata": {},
   "outputs": [
    {
     "data": {
      "text/plain": [
       "11.0"
      ]
     },
     "execution_count": 17,
     "metadata": {},
     "output_type": "execute_result"
    }
   ],
   "source": [
    "df_train['YOJ'].median()"
   ]
  },
  {
   "cell_type": "code",
   "execution_count": 18,
   "metadata": {},
   "outputs": [
    {
     "data": {
      "text/plain": [
       "0      9.0\n",
       "1      7.0\n",
       "2     17.0\n",
       "3     13.0\n",
       "4      NaN\n",
       "5      0.0\n",
       "6      9.0\n",
       "7     11.0\n",
       "8      0.0\n",
       "9     12.0\n",
       "10    10.0\n",
       "11    16.0\n",
       "12     5.0\n",
       "13    11.0\n",
       "14    13.0\n",
       "15     7.0\n",
       "16    12.0\n",
       "17    13.0\n",
       "18     7.0\n",
       "19     7.0\n",
       "Name: YOJ, dtype: float64"
      ]
     },
     "execution_count": 18,
     "metadata": {},
     "output_type": "execute_result"
    }
   ],
   "source": [
    "df_train['YOJ'].head(20)"
   ]
  },
  {
   "cell_type": "markdown",
   "metadata": {},
   "source": [
    "# 1. YOJ"
   ]
  },
  {
   "cell_type": "code",
   "execution_count": 19,
   "metadata": {},
   "outputs": [
    {
     "data": {
      "text/plain": [
       "<AxesSubplot:xlabel='YOJ'>"
      ]
     },
     "execution_count": 19,
     "metadata": {},
     "output_type": "execute_result"
    },
    {
     "data": {
      "image/png": "[encoded data removed]",
      "text/plain": [
       "<Figure size 432x288 with 1 Axes>"
      ]
     },
     "metadata": {
      "needs_background": "light"
     },
     "output_type": "display_data"
    }
   ],
   "source": [
    "sns.boxplot(df_train.YOJ)"
   ]
  },
  {
   "cell_type": "code",
   "execution_count": 20,
   "metadata": {},
   "outputs": [],
   "source": [
    "df_train['YOJ'] = df_train['YOJ'].replace(np.nan, df_train['YOJ'].median())"
   ]
  },
  {
   "cell_type": "markdown",
   "metadata": {},
   "source": [
    "# 2. OCCUPATION"
   ]
  },
  {
   "cell_type": "code",
   "execution_count": 21,
   "metadata": {},
   "outputs": [
    {
     "data": {
      "text/plain": [
       "<AxesSubplot:>"
      ]
     },
     "execution_count": 21,
     "metadata": {},
     "output_type": "execute_result"
    },
    {
     "data": {
      "image/png": "[encoded data removed]",
      "text/plain": [
       "<Figure size 432x288 with 1 Axes>"
      ]
     },
     "metadata": {
      "needs_background": "light"
     },
     "output_type": "display_data"
    }
   ],
   "source": [
    "df_train['OCCUPATION'].value_counts(normalize = True).plot(kind = 'bar')"
   ]
  },
  {
   "cell_type": "code",
   "execution_count": 22,
   "metadata": {},
   "outputs": [
    {
     "data": {
      "text/plain": [
       "<AxesSubplot:xlabel='OCCUPATION', ylabel='count'>"
      ]
     },
     "execution_count": 22,
     "metadata": {},
     "output_type": "execute_result"
    },
    {
     "data": {
      "image/png": "[encoded data removed]",
      "text/plain": [
       "<Figure size 432x288 with 1 Axes>"
      ]
     },
     "metadata": {
      "needs_background": "light"
     },
     "output_type": "display_data"
    }
   ],
   "source": [
    "sns.countplot(df_train.OCCUPATION)"
   ]
  },
  {
   "cell_type": "markdown",
   "metadata": {},
   "source": [
    "# 3. CAR AGE"
   ]
  },
  {
   "cell_type": "code",
   "execution_count": 23,
   "metadata": {},
   "outputs": [
    {
     "data": {
      "text/plain": [
       "<AxesSubplot:xlabel='CAR_AGE'>"
      ]
     },
     "execution_count": 23,
     "metadata": {},
     "output_type": "execute_result"
    },
    {
     "data": {
      "image/png": "[encoded data removed]",
      "text/plain": [
       "<Figure size 432x288 with 1 Axes>"
      ]
     },
     "metadata": {
      "needs_background": "light"
     },
     "output_type": "display_data"
    }
   ],
   "source": [
    "sns.boxplot(df_train.CAR_AGE)"
   ]
  },
  {
   "cell_type": "code",
   "execution_count": 24,
   "metadata": {},
   "outputs": [],
   "source": [
    "df_train['CAR_AGE'] = df_train['CAR_AGE'].replace(np.nan, df_train['CAR_AGE'].median())"
   ]
  },
  {
   "cell_type": "code",
   "execution_count": 25,
   "metadata": {},
   "outputs": [],
   "source": [
    "#??sns.countplot"
   ]
  },
  {
   "cell_type": "code",
   "execution_count": 26,
   "metadata": {},
   "outputs": [
    {
     "data": {
      "text/plain": [
       "ID              0\n",
       "KIDSDRIV        0\n",
       "AGE             6\n",
       "HOMEKIDS        0\n",
       "YOJ             0\n",
       "INCOME        462\n",
       "PARENT1         0\n",
       "HOME_VAL      458\n",
       "MSTATUS         0\n",
       "GENDER          0\n",
       "EDUCATION       0\n",
       "OCCUPATION    530\n",
       "TRAVTIME        0\n",
       "CAR_USE         0\n",
       "BLUEBOOK        0\n",
       "TIF             0\n",
       "CAR_TYPE        0\n",
       "RED_CAR         0\n",
       "OLDCLAIM        0\n",
       "CLM_FREQ        0\n",
       "REVOKED         0\n",
       "MVR_PTS         0\n",
       "CLM_AMT         0\n",
       "CAR_AGE         0\n",
       "CLAIM_FLAG      0\n",
       "dtype: int64"
      ]
     },
     "execution_count": 26,
     "metadata": {},
     "output_type": "execute_result"
    }
   ],
   "source": [
    "df_train.isnull().sum()"
   ]
  },
  {
   "cell_type": "code",
   "execution_count": 27,
   "metadata": {},
   "outputs": [],
   "source": [
    "# df_train['OCCUPATION'].replace(np.NaN, df_train['OCCUPATION'].mode()).head(20)"
   ]
  },
  {
   "cell_type": "code",
   "execution_count": 28,
   "metadata": {},
   "outputs": [
    {
     "data": {
      "text/plain": [
       "0"
      ]
     },
     "execution_count": 28,
     "metadata": {},
     "output_type": "execute_result"
    }
   ],
   "source": [
    "# Check for missing or null values\n",
    "df_train['YOJ'].isnull().sum()"
   ]
  },
  {
   "cell_type": "code",
   "execution_count": 29,
   "metadata": {},
   "outputs": [
    {
     "data": {
      "text/plain": [
       "0"
      ]
     },
     "execution_count": 29,
     "metadata": {},
     "output_type": "execute_result"
    }
   ],
   "source": [
    "df_train['CAR_AGE'].isnull().sum()"
   ]
  },
  {
   "cell_type": "code",
   "execution_count": 30,
   "metadata": {},
   "outputs": [
    {
     "name": "stdout",
     "output_type": "stream",
     "text": [
      "<class 'pandas.core.frame.DataFrame'>\n",
      "RangeIndex: 8241 entries, 0 to 8240\n",
      "Data columns (total 25 columns):\n",
      " #   Column      Non-Null Count  Dtype  \n",
      "---  ------      --------------  -----  \n",
      " 0   ID          8241 non-null   int64  \n",
      " 1   KIDSDRIV    8241 non-null   int64  \n",
      " 2   AGE         8235 non-null   float64\n",
      " 3   HOMEKIDS    8241 non-null   int64  \n",
      " 4   YOJ         8241 non-null   float64\n",
      " 5   INCOME      7779 non-null   object \n",
      " 6   PARENT1     8241 non-null   object \n",
      " 7   HOME_VAL    7783 non-null   object \n",
      " 8   MSTATUS     8241 non-null   object \n",
      " 9   GENDER      8241 non-null   object \n",
      " 10  EDUCATION   8241 non-null   object \n",
      " 11  OCCUPATION  7711 non-null   object \n",
      " 12  TRAVTIME    8241 non-null   int64  \n",
      " 13  CAR_USE     8241 non-null   object \n",
      " 14  BLUEBOOK    8241 non-null   object \n",
      " 15  TIF         8241 non-null   int64  \n",
      " 16  CAR_TYPE    8241 non-null   object \n",
      " 17  RED_CAR     8241 non-null   object \n",
      " 18  OLDCLAIM    8241 non-null   object \n",
      " 19  CLM_FREQ    8241 non-null   int64  \n",
      " 20  REVOKED     8241 non-null   object \n",
      " 21  MVR_PTS     8241 non-null   int64  \n",
      " 22  CLM_AMT     8241 non-null   object \n",
      " 23  CAR_AGE     8241 non-null   float64\n",
      " 24  CLAIM_FLAG  8241 non-null   int64  \n",
      "dtypes: float64(3), int64(8), object(14)\n",
      "memory usage: 1.6+ MB\n"
     ]
    }
   ],
   "source": [
    "df_train.info()"
   ]
  },
  {
   "cell_type": "markdown",
   "metadata": {},
   "source": [
    "# missing values(columns) :  \n",
    "* YOJ :  num\n",
    "* INCOME : object \n",
    "* HOME_AVL : object\n",
    "* OCCUPATION: object\n",
    "* CAR_AGE: float "
   ]
  },
  {
   "cell_type": "markdown",
   "metadata": {},
   "source": [
    "**Impute missing values with appropriate values**"
   ]
  },
  {
   "cell_type": "code",
   "execution_count": 31,
   "metadata": {},
   "outputs": [
    {
     "data": {
      "text/plain": [
       "Index(['ID', 'KIDSDRIV', 'AGE', 'HOMEKIDS', 'YOJ', 'INCOME', 'PARENT1',\n",
       "       'HOME_VAL', 'MSTATUS', 'GENDER', 'EDUCATION', 'OCCUPATION', 'TRAVTIME',\n",
       "       'CAR_USE', 'BLUEBOOK', 'TIF', 'CAR_TYPE', 'RED_CAR', 'OLDCLAIM',\n",
       "       'CLM_FREQ', 'REVOKED', 'MVR_PTS', 'CLM_AMT', 'CAR_AGE', 'CLAIM_FLAG'],\n",
       "      dtype='object')"
      ]
     },
     "execution_count": 31,
     "metadata": {},
     "output_type": "execute_result"
    }
   ],
   "source": [
    "df_train.columns"
   ]
  },
  {
   "cell_type": "code",
   "execution_count": 32,
   "metadata": {},
   "outputs": [],
   "source": [
    "# to clean the dollar sign from the currency column & convert it to float.\n",
    "    \n",
    "def clean_dollar(df_train, col):\n",
    "    \"\"\"Removes \"$\" sign from a column & converts it to float.\n",
    "    \n",
    "    This function accepts a dataframe and columns with $ sign to be converted to float.\n",
    "        \n",
    "    Keyword arguments:\n",
    "    df -- pandas dataframe for which we want to encode the columns\n",
    "    col -- list of columns that is to be converted\n",
    "    \n",
    "    Returns:\n",
    "    df -- the converted dataframe\n",
    "    \"\"\"\n",
    "    df_train[col]=df_train[col].str.replace('$','')\n",
    "    df_train[col]=df_train[col].astype(str).str.replace(\",\", \"\")\n",
    "#     df_train[col]=df_train[col].astype(int)\n",
    "#     df['Unique ID'] = df['Unique ID'].astype(int)\n",
    "    return df_train[col]    \n",
    "    \n"
   ]
  },
  {
   "cell_type": "code",
   "execution_count": 33,
   "metadata": {},
   "outputs": [],
   "source": [
    "# #Replacing spaces with 'NaN' in test dataset\n",
    "# df_train['INCOME'].replace(' ',np.NaN, inplace=True)\n",
    "df_train['OCCUPATION'].replace(' ',np.NaN, inplace=True)"
   ]
  },
  {
   "cell_type": "code",
   "execution_count": 34,
   "metadata": {},
   "outputs": [
    {
     "data": {
      "text/plain": [
       "0        4701\n",
       "1       10232\n",
       "2       66200\n",
       "3       34056\n",
       "4       45734\n",
       "        ...  \n",
       "8236      nan\n",
       "8237    67359\n",
       "8238    30129\n",
       "8239    74315\n",
       "8240     5336\n",
       "Name: INCOME, Length: 8241, dtype: object"
      ]
     },
     "execution_count": 34,
     "metadata": {},
     "output_type": "execute_result"
    }
   ],
   "source": [
    "clean_dollar(df_train, 'INCOME')"
   ]
  },
  {
   "cell_type": "code",
   "execution_count": 35,
   "metadata": {},
   "outputs": [
    {
     "data": {
      "text/plain": [
       "0       4701\n",
       "1      10232\n",
       "2      66200\n",
       "3      34056\n",
       "4      45734\n",
       "5          0\n",
       "6        nan\n",
       "7      93658\n",
       "8          0\n",
       "9      28573\n",
       "10     94403\n",
       "11     42815\n",
       "12     83967\n",
       "13     30969\n",
       "14    115656\n",
       "15      4034\n",
       "16    102445\n",
       "17     71512\n",
       "18     38589\n",
       "19    108139\n",
       "20     62849\n",
       "21     67702\n",
       "22     28409\n",
       "23     78599\n",
       "24     22626\n",
       "25     52073\n",
       "26     99247\n",
       "27     58628\n",
       "28     48812\n",
       "29     10720\n",
       "30    134640\n",
       "31     23772\n",
       "32       nan\n",
       "33     57387\n",
       "34    101806\n",
       "35     50718\n",
       "36     74501\n",
       "37     53431\n",
       "38     82565\n",
       "39     40716\n",
       "40    165193\n",
       "41     80475\n",
       "42     45669\n",
       "43     69620\n",
       "44     18261\n",
       "45     36504\n",
       "46    157057\n",
       "47     25738\n",
       "48     67278\n",
       "49     49010\n",
       "Name: INCOME, dtype: object"
      ]
     },
     "execution_count": 35,
     "metadata": {},
     "output_type": "execute_result"
    }
   ],
   "source": [
    "df_train['INCOME'].head(50)"
   ]
  },
  {
   "cell_type": "code",
   "execution_count": 36,
   "metadata": {},
   "outputs": [
    {
     "data": {
      "text/plain": [
       "0         621\n",
       "nan       462\n",
       "61790       5\n",
       "64916       4\n",
       "51524       3\n",
       "         ... \n",
       "82266       1\n",
       "109230      1\n",
       "5015        1\n",
       "26630       1\n",
       "29699       1\n",
       "Name: INCOME, Length: 6650, dtype: int64"
      ]
     },
     "execution_count": 36,
     "metadata": {},
     "output_type": "execute_result"
    }
   ],
   "source": [
    "df_train['INCOME'].value_counts()"
   ]
  },
  {
   "cell_type": "code",
   "execution_count": 37,
   "metadata": {},
   "outputs": [
    {
     "data": {
      "text/plain": [
       "0        5900\n",
       "1       24470\n",
       "2       17260\n",
       "3        6180\n",
       "4        9870\n",
       "        ...  \n",
       "8236    10250\n",
       "8237    13140\n",
       "8238    18950\n",
       "8239    24230\n",
       "8240    11650\n",
       "Name: BLUEBOOK, Length: 8241, dtype: object"
      ]
     },
     "execution_count": 37,
     "metadata": {},
     "output_type": "execute_result"
    }
   ],
   "source": [
    "\n",
    "clean_dollar(df_train, 'HOME_VAL')\n",
    "clean_dollar(df_train, 'OLDCLAIM')\n",
    "clean_dollar(df_train, 'CLM_AMT')\n",
    "clean_dollar(df_train, 'BLUEBOOK')"
   ]
  },
  {
   "cell_type": "code",
   "execution_count": 38,
   "metadata": {},
   "outputs": [
    {
     "data": {
      "text/plain": [
       "0    0\n",
       "dtype: object"
      ]
     },
     "execution_count": 38,
     "metadata": {},
     "output_type": "execute_result"
    }
   ],
   "source": [
    "df_train['INCOME'].mode()"
   ]
  },
  {
   "cell_type": "code",
   "execution_count": 39,
   "metadata": {},
   "outputs": [],
   "source": [
    "# treat_null_values(df_train['OCCUPATION'], 'ffill')\n",
    "\n",
    "# filling with Unknown class\n",
    "df_train['OCCUPATION'] = df_train['OCCUPATION'].fillna(\"Unknown\")\n",
    "# df_train['INCOME'] = df_train['INCOME'].fillna(df_train['INCOME'].mode())\n",
    "# df_train['INCOME'].fillna(df_train.INCOME.mode(), inplace=True)\n",
    "df_train['INCOME'].fillna(\"0\")\n",
    "df_train['AGE'] = df_train['AGE'].fillna(\"Unknown\")"
   ]
  },
  {
   "cell_type": "code",
   "execution_count": 40,
   "metadata": {},
   "outputs": [
    {
     "data": {
      "text/plain": [
       "0"
      ]
     },
     "execution_count": 40,
     "metadata": {},
     "output_type": "execute_result"
    }
   ],
   "source": [
    "df_train['OCCUPATION'].isnull().sum()"
   ]
  },
  {
   "cell_type": "code",
   "execution_count": 41,
   "metadata": {},
   "outputs": [],
   "source": [
    "dc = df_train['INCOME'].value_counts().sum()"
   ]
  },
  {
   "cell_type": "code",
   "execution_count": 42,
   "metadata": {},
   "outputs": [
    {
     "data": {
      "text/plain": [
       "0       4701\n",
       "1      10232\n",
       "2      66200\n",
       "3      34056\n",
       "4      45734\n",
       "5          0\n",
       "6        nan\n",
       "7      93658\n",
       "8          0\n",
       "9      28573\n",
       "10     94403\n",
       "11     42815\n",
       "12     83967\n",
       "13     30969\n",
       "14    115656\n",
       "15      4034\n",
       "16    102445\n",
       "17     71512\n",
       "18     38589\n",
       "19    108139\n",
       "20     62849\n",
       "21     67702\n",
       "22     28409\n",
       "23     78599\n",
       "24     22626\n",
       "25     52073\n",
       "26     99247\n",
       "27     58628\n",
       "28     48812\n",
       "29     10720\n",
       "30    134640\n",
       "31     23772\n",
       "32       nan\n",
       "33     57387\n",
       "34    101806\n",
       "35     50718\n",
       "36     74501\n",
       "37     53431\n",
       "38     82565\n",
       "39     40716\n",
       "40    165193\n",
       "41     80475\n",
       "42     45669\n",
       "43     69620\n",
       "44     18261\n",
       "45     36504\n",
       "46    157057\n",
       "47     25738\n",
       "48     67278\n",
       "49     49010\n",
       "Name: INCOME, dtype: object"
      ]
     },
     "execution_count": 42,
     "metadata": {},
     "output_type": "execute_result"
    }
   ],
   "source": [
    "df_train['INCOME'].head(50)"
   ]
  },
  {
   "cell_type": "code",
   "execution_count": 43,
   "metadata": {},
   "outputs": [
    {
     "name": "stdout",
     "output_type": "stream",
     "text": [
      "8241\n"
     ]
    }
   ],
   "source": [
    "print(dc)"
   ]
  },
  {
   "cell_type": "code",
   "execution_count": 44,
   "metadata": {},
   "outputs": [
    {
     "data": {
      "text/plain": [
       "0"
      ]
     },
     "execution_count": 44,
     "metadata": {},
     "output_type": "execute_result"
    }
   ],
   "source": [
    "df_train['INCOME'].isnull().sum()"
   ]
  },
  {
   "cell_type": "code",
   "execution_count": 45,
   "metadata": {},
   "outputs": [
    {
     "data": {
      "text/plain": [
       "ID            0\n",
       "KIDSDRIV      0\n",
       "AGE           0\n",
       "HOMEKIDS      0\n",
       "YOJ           0\n",
       "INCOME        0\n",
       "PARENT1       0\n",
       "HOME_VAL      0\n",
       "MSTATUS       0\n",
       "GENDER        0\n",
       "EDUCATION     0\n",
       "OCCUPATION    0\n",
       "TRAVTIME      0\n",
       "CAR_USE       0\n",
       "BLUEBOOK      0\n",
       "TIF           0\n",
       "CAR_TYPE      0\n",
       "RED_CAR       0\n",
       "OLDCLAIM      0\n",
       "CLM_FREQ      0\n",
       "REVOKED       0\n",
       "MVR_PTS       0\n",
       "CLM_AMT       0\n",
       "CAR_AGE       0\n",
       "CLAIM_FLAG    0\n",
       "dtype: int64"
      ]
     },
     "execution_count": 45,
     "metadata": {},
     "output_type": "execute_result"
    }
   ],
   "source": [
    "df_train.isnull().sum()"
   ]
  },
  {
   "cell_type": "code",
   "execution_count": 46,
   "metadata": {},
   "outputs": [
    {
     "name": "stdout",
     "output_type": "stream",
     "text": [
      "<class 'pandas.core.frame.DataFrame'>\n",
      "RangeIndex: 8241 entries, 0 to 8240\n",
      "Data columns (total 25 columns):\n",
      " #   Column      Non-Null Count  Dtype  \n",
      "---  ------      --------------  -----  \n",
      " 0   ID          8241 non-null   int64  \n",
      " 1   KIDSDRIV    8241 non-null   int64  \n",
      " 2   AGE         8241 non-null   object \n",
      " 3   HOMEKIDS    8241 non-null   int64  \n",
      " 4   YOJ         8241 non-null   float64\n",
      " 5   INCOME      8241 non-null   object \n",
      " 6   PARENT1     8241 non-null   object \n",
      " 7   HOME_VAL    8241 non-null   object \n",
      " 8   MSTATUS     8241 non-null   object \n",
      " 9   GENDER      8241 non-null   object \n",
      " 10  EDUCATION   8241 non-null   object \n",
      " 11  OCCUPATION  8241 non-null   object \n",
      " 12  TRAVTIME    8241 non-null   int64  \n",
      " 13  CAR_USE     8241 non-null   object \n",
      " 14  BLUEBOOK    8241 non-null   object \n",
      " 15  TIF         8241 non-null   int64  \n",
      " 16  CAR_TYPE    8241 non-null   object \n",
      " 17  RED_CAR     8241 non-null   object \n",
      " 18  OLDCLAIM    8241 non-null   object \n",
      " 19  CLM_FREQ    8241 non-null   int64  \n",
      " 20  REVOKED     8241 non-null   object \n",
      " 21  MVR_PTS     8241 non-null   int64  \n",
      " 22  CLM_AMT     8241 non-null   object \n",
      " 23  CAR_AGE     8241 non-null   float64\n",
      " 24  CLAIM_FLAG  8241 non-null   int64  \n",
      "dtypes: float64(2), int64(8), object(15)\n",
      "memory usage: 1.6+ MB\n"
     ]
    }
   ],
   "source": [
    "df_train.info()"
   ]
  },
  {
   "cell_type": "markdown",
   "metadata": {},
   "source": [
    "## GRAPHICAL REPRESENTATION"
   ]
  },
  {
   "cell_type": "markdown",
   "metadata": {},
   "source": [
    "### Visualize the data\n",
    "\n",
    "- Check for the categorical & continuous features. \n",
    "- Check out the best plots for plotting between categorical target and continuous features and try making some inferences from these plots.\n",
    "- Clean the data, apply some data preprocessing and engineering techniques."
   ]
  },
  {
   "cell_type": "markdown",
   "metadata": {},
   "source": [
    "### UNIVARIATE"
   ]
  },
  {
   "cell_type": "code",
   "execution_count": 47,
   "metadata": {},
   "outputs": [
    {
     "data": {
      "text/html": [
       "<div>\n",
       "<style scoped>\n",
       "    .dataframe tbody tr th:only-of-type {\n",
       "        vertical-align: middle;\n",
       "    }\n",
       "\n",
       "    .dataframe tbody tr th {\n",
       "        vertical-align: top;\n",
       "    }\n",
       "\n",
       "    .dataframe thead th {\n",
       "        text-align: right;\n",
       "    }\n",
       "</style>\n",
       "<table border=\"1\" class=\"dataframe\">\n",
       "  <thead>\n",
       "    <tr style=\"text-align: right;\">\n",
       "      <th></th>\n",
       "      <th>ID</th>\n",
       "      <th>KIDSDRIV</th>\n",
       "      <th>HOMEKIDS</th>\n",
       "      <th>YOJ</th>\n",
       "      <th>TRAVTIME</th>\n",
       "      <th>TIF</th>\n",
       "      <th>CLM_FREQ</th>\n",
       "      <th>MVR_PTS</th>\n",
       "      <th>CAR_AGE</th>\n",
       "      <th>CLAIM_FLAG</th>\n",
       "    </tr>\n",
       "  </thead>\n",
       "  <tbody>\n",
       "    <tr>\n",
       "      <th>ID</th>\n",
       "      <td>1.000000</td>\n",
       "      <td>-0.008499</td>\n",
       "      <td>-0.000626</td>\n",
       "      <td>-0.018831</td>\n",
       "      <td>0.004866</td>\n",
       "      <td>-0.017859</td>\n",
       "      <td>-0.001256</td>\n",
       "      <td>0.000960</td>\n",
       "      <td>0.001991</td>\n",
       "      <td>-0.002985</td>\n",
       "    </tr>\n",
       "    <tr>\n",
       "      <th>KIDSDRIV</th>\n",
       "      <td>-0.008499</td>\n",
       "      <td>1.000000</td>\n",
       "      <td>0.462011</td>\n",
       "      <td>0.044730</td>\n",
       "      <td>0.014851</td>\n",
       "      <td>-0.005300</td>\n",
       "      <td>0.043340</td>\n",
       "      <td>0.051921</td>\n",
       "      <td>-0.052109</td>\n",
       "      <td>0.067292</td>\n",
       "    </tr>\n",
       "    <tr>\n",
       "      <th>HOMEKIDS</th>\n",
       "      <td>-0.000626</td>\n",
       "      <td>0.462011</td>\n",
       "      <td>1.000000</td>\n",
       "      <td>0.077499</td>\n",
       "      <td>0.003373</td>\n",
       "      <td>0.010615</td>\n",
       "      <td>0.040866</td>\n",
       "      <td>0.069481</td>\n",
       "      <td>-0.152013</td>\n",
       "      <td>0.069923</td>\n",
       "    </tr>\n",
       "    <tr>\n",
       "      <th>YOJ</th>\n",
       "      <td>-0.018831</td>\n",
       "      <td>0.044730</td>\n",
       "      <td>0.077499</td>\n",
       "      <td>1.000000</td>\n",
       "      <td>-0.008116</td>\n",
       "      <td>0.019948</td>\n",
       "      <td>-0.015013</td>\n",
       "      <td>-0.041936</td>\n",
       "      <td>0.052464</td>\n",
       "      <td>-0.016244</td>\n",
       "    </tr>\n",
       "    <tr>\n",
       "      <th>TRAVTIME</th>\n",
       "      <td>0.004866</td>\n",
       "      <td>0.014851</td>\n",
       "      <td>0.003373</td>\n",
       "      <td>-0.008116</td>\n",
       "      <td>1.000000</td>\n",
       "      <td>-0.015989</td>\n",
       "      <td>0.009785</td>\n",
       "      <td>0.013628</td>\n",
       "      <td>-0.030528</td>\n",
       "      <td>0.042425</td>\n",
       "    </tr>\n",
       "    <tr>\n",
       "      <th>TIF</th>\n",
       "      <td>-0.017859</td>\n",
       "      <td>-0.005300</td>\n",
       "      <td>0.010615</td>\n",
       "      <td>0.019948</td>\n",
       "      <td>-0.015989</td>\n",
       "      <td>1.000000</td>\n",
       "      <td>-0.021340</td>\n",
       "      <td>-0.036186</td>\n",
       "      <td>0.002082</td>\n",
       "      <td>-0.050506</td>\n",
       "    </tr>\n",
       "    <tr>\n",
       "      <th>CLM_FREQ</th>\n",
       "      <td>-0.001256</td>\n",
       "      <td>0.043340</td>\n",
       "      <td>0.040866</td>\n",
       "      <td>-0.015013</td>\n",
       "      <td>0.009785</td>\n",
       "      <td>-0.021340</td>\n",
       "      <td>1.000000</td>\n",
       "      <td>0.405115</td>\n",
       "      <td>-0.021157</td>\n",
       "      <td>0.148269</td>\n",
       "    </tr>\n",
       "    <tr>\n",
       "      <th>MVR_PTS</th>\n",
       "      <td>0.000960</td>\n",
       "      <td>0.051921</td>\n",
       "      <td>0.069481</td>\n",
       "      <td>-0.041936</td>\n",
       "      <td>0.013628</td>\n",
       "      <td>-0.036186</td>\n",
       "      <td>0.405115</td>\n",
       "      <td>1.000000</td>\n",
       "      <td>-0.039164</td>\n",
       "      <td>0.147199</td>\n",
       "    </tr>\n",
       "    <tr>\n",
       "      <th>CAR_AGE</th>\n",
       "      <td>0.001991</td>\n",
       "      <td>-0.052109</td>\n",
       "      <td>-0.152013</td>\n",
       "      <td>0.052464</td>\n",
       "      <td>-0.030528</td>\n",
       "      <td>0.002082</td>\n",
       "      <td>-0.021157</td>\n",
       "      <td>-0.039164</td>\n",
       "      <td>1.000000</td>\n",
       "      <td>-0.066202</td>\n",
       "    </tr>\n",
       "    <tr>\n",
       "      <th>CLAIM_FLAG</th>\n",
       "      <td>-0.002985</td>\n",
       "      <td>0.067292</td>\n",
       "      <td>0.069923</td>\n",
       "      <td>-0.016244</td>\n",
       "      <td>0.042425</td>\n",
       "      <td>-0.050506</td>\n",
       "      <td>0.148269</td>\n",
       "      <td>0.147199</td>\n",
       "      <td>-0.066202</td>\n",
       "      <td>1.000000</td>\n",
       "    </tr>\n",
       "  </tbody>\n",
       "</table>\n",
       "</div>"
      ],
      "text/plain": [
       "                  ID  KIDSDRIV  HOMEKIDS       YOJ  TRAVTIME       TIF  \\\n",
       "ID          1.000000 -0.008499 -0.000626 -0.018831  0.004866 -0.017859   \n",
       "KIDSDRIV   -0.008499  1.000000  0.462011  0.044730  0.014851 -0.005300   \n",
       "HOMEKIDS   -0.000626  0.462011  1.000000  0.077499  0.003373  0.010615   \n",
       "YOJ        -0.018831  0.044730  0.077499  1.000000 -0.008116  0.019948   \n",
       "TRAVTIME    0.004866  0.014851  0.003373 -0.008116  1.000000 -0.015989   \n",
       "TIF        -0.017859 -0.005300  0.010615  0.019948 -0.015989  1.000000   \n",
       "CLM_FREQ   -0.001256  0.043340  0.040866 -0.015013  0.009785 -0.021340   \n",
       "MVR_PTS     0.000960  0.051921  0.069481 -0.041936  0.013628 -0.036186   \n",
       "CAR_AGE     0.001991 -0.052109 -0.152013  0.052464 -0.030528  0.002082   \n",
       "CLAIM_FLAG -0.002985  0.067292  0.069923 -0.016244  0.042425 -0.050506   \n",
       "\n",
       "            CLM_FREQ   MVR_PTS   CAR_AGE  CLAIM_FLAG  \n",
       "ID         -0.001256  0.000960  0.001991   -0.002985  \n",
       "KIDSDRIV    0.043340  0.051921 -0.052109    0.067292  \n",
       "HOMEKIDS    0.040866  0.069481 -0.152013    0.069923  \n",
       "YOJ        -0.015013 -0.041936  0.052464   -0.016244  \n",
       "TRAVTIME    0.009785  0.013628 -0.030528    0.042425  \n",
       "TIF        -0.021340 -0.036186  0.002082   -0.050506  \n",
       "CLM_FREQ    1.000000  0.405115 -0.021157    0.148269  \n",
       "MVR_PTS     0.405115  1.000000 -0.039164    0.147199  \n",
       "CAR_AGE    -0.021157 -0.039164  1.000000   -0.066202  \n",
       "CLAIM_FLAG  0.148269  0.147199 -0.066202    1.000000  "
      ]
     },
     "execution_count": 47,
     "metadata": {},
     "output_type": "execute_result"
    }
   ],
   "source": [
    "df_train.corr()\n",
    "# EVEN HEATMAP CAN BE USED"
   ]
  },
  {
   "cell_type": "markdown",
   "metadata": {},
   "source": [
    "**UNIVARIATE AND BIVARIATE ANALYSIS**"
   ]
  },
  {
   "cell_type": "markdown",
   "metadata": {},
   "source": [
    "# 4. CLAIM FLAG - TARGET"
   ]
  },
  {
   "cell_type": "code",
   "execution_count": 48,
   "metadata": {},
   "outputs": [
    {
     "data": {
      "text/plain": [
       "<AxesSubplot:>"
      ]
     },
     "execution_count": 48,
     "metadata": {},
     "output_type": "execute_result"
    },
    {
     "data": {
      "image/png": "[encoded data removed]",
      "text/plain": [
       "<Figure size 432x288 with 1 Axes>"
      ]
     },
     "metadata": {
      "needs_background": "light"
     },
     "output_type": "display_data"
    }
   ],
   "source": [
    "df_train['CLAIM_FLAG'].value_counts(normalize = True).plot(kind = 'bar')\n"
   ]
  },
  {
   "cell_type": "markdown",
   "metadata": {},
   "source": [
    "### Highly imbalanced dataset \n",
    "- target value\n",
    "- 0: \n",
    "- 1: \n"
   ]
  },
  {
   "cell_type": "code",
   "execution_count": 49,
   "metadata": {},
   "outputs": [],
   "source": [
    "import seaborn as sns"
   ]
  },
  {
   "cell_type": "markdown",
   "metadata": {},
   "source": [
    "# 5. GENDER"
   ]
  },
  {
   "cell_type": "code",
   "execution_count": 50,
   "metadata": {
    "scrolled": true
   },
   "outputs": [
    {
     "data": {
      "text/plain": [
       "<AxesSubplot:xlabel='GENDER', ylabel='CLAIM_FLAG'>"
      ]
     },
     "execution_count": 50,
     "metadata": {},
     "output_type": "execute_result"
    },
    {
     "data": {
      "image/png": "[encoded data removed]",
      "text/plain": [
       "<Figure size 432x288 with 1 Axes>"
      ]
     },
     "metadata": {
      "needs_background": "light"
     },
     "output_type": "display_data"
    }
   ],
   "source": [
    "sns.boxplot(x='GENDER', y='CLAIM_FLAG', data=df_train)"
   ]
  },
  {
   "cell_type": "code",
   "execution_count": 51,
   "metadata": {
    "scrolled": false
   },
   "outputs": [
    {
     "data": {
      "text/plain": [
       "<AxesSubplot:>"
      ]
     },
     "execution_count": 51,
     "metadata": {},
     "output_type": "execute_result"
    },
    {
     "data": {
      "image/png": "[encoded data removed]",
      "text/plain": [
       "<Figure size 432x288 with 1 Axes>"
      ]
     },
     "metadata": {
      "needs_background": "light"
     },
     "output_type": "display_data"
    }
   ],
   "source": [
    "df_train['GENDER'].value_counts(normalize = True).plot(kind = 'bar')"
   ]
  },
  {
   "cell_type": "markdown",
   "metadata": {},
   "source": [
    "# 6. PARENT1"
   ]
  },
  {
   "cell_type": "code",
   "execution_count": 52,
   "metadata": {},
   "outputs": [
    {
     "data": {
      "text/plain": [
       "<AxesSubplot:>"
      ]
     },
     "execution_count": 52,
     "metadata": {},
     "output_type": "execute_result"
    },
    {
     "data": {
      "image/png": "[encoded data removed]",
      "text/plain": [
       "<Figure size 432x288 with 1 Axes>"
      ]
     },
     "metadata": {
      "needs_background": "light"
     },
     "output_type": "display_data"
    }
   ],
   "source": [
    "df_train['PARENT1'].value_counts(normalize = True).plot(kind = 'bar')"
   ]
  },
  {
   "cell_type": "markdown",
   "metadata": {},
   "source": [
    "# 7. MSTATUS"
   ]
  },
  {
   "cell_type": "code",
   "execution_count": 53,
   "metadata": {},
   "outputs": [
    {
     "data": {
      "text/plain": [
       "<AxesSubplot:>"
      ]
     },
     "execution_count": 53,
     "metadata": {},
     "output_type": "execute_result"
    },
    {
     "data": {
      "image/png": "[encoded data removed]",
      "text/plain": [
       "<Figure size 432x288 with 1 Axes>"
      ]
     },
     "metadata": {
      "needs_background": "light"
     },
     "output_type": "display_data"
    }
   ],
   "source": [
    "df_train['MSTATUS'].value_counts(normalize = True).plot(kind = 'bar')"
   ]
  },
  {
   "cell_type": "markdown",
   "metadata": {},
   "source": [
    "# 8. EDUCATION"
   ]
  },
  {
   "cell_type": "code",
   "execution_count": 54,
   "metadata": {},
   "outputs": [
    {
     "data": {
      "text/plain": [
       "<AxesSubplot:>"
      ]
     },
     "execution_count": 54,
     "metadata": {},
     "output_type": "execute_result"
    },
    {
     "data": {
      "image/png": "[encoded data removed]",
      "text/plain": [
       "<Figure size 432x288 with 1 Axes>"
      ]
     },
     "metadata": {
      "needs_background": "light"
     },
     "output_type": "display_data"
    }
   ],
   "source": [
    "df_train['EDUCATION'].value_counts(normalize = True).plot(kind = 'bar')"
   ]
  },
  {
   "cell_type": "markdown",
   "metadata": {},
   "source": [
    "# 9. CAR TYPE"
   ]
  },
  {
   "cell_type": "code",
   "execution_count": 55,
   "metadata": {
    "scrolled": true
   },
   "outputs": [
    {
     "data": {
      "text/plain": [
       "<AxesSubplot:>"
      ]
     },
     "execution_count": 55,
     "metadata": {},
     "output_type": "execute_result"
    },
    {
     "data": {
      "image/png": "[encoded data removed]",
      "text/plain": [
       "<Figure size 432x288 with 1 Axes>"
      ]
     },
     "metadata": {
      "needs_background": "light"
     },
     "output_type": "display_data"
    }
   ],
   "source": [
    "df_train['CAR_TYPE'].value_counts(normalize = True).plot(kind = 'bar')"
   ]
  },
  {
   "cell_type": "markdown",
   "metadata": {},
   "source": [
    "# 10. RED CAR"
   ]
  },
  {
   "cell_type": "code",
   "execution_count": 56,
   "metadata": {},
   "outputs": [
    {
     "data": {
      "text/plain": [
       "<AxesSubplot:>"
      ]
     },
     "execution_count": 56,
     "metadata": {},
     "output_type": "execute_result"
    },
    {
     "data": {
      "image/png": "[encoded data removed]",
      "text/plain": [
       "<Figure size 432x288 with 1 Axes>"
      ]
     },
     "metadata": {
      "needs_background": "light"
     },
     "output_type": "display_data"
    }
   ],
   "source": [
    "df_train['RED_CAR'].value_counts(normalize = True).plot(kind = 'bar')"
   ]
  },
  {
   "cell_type": "code",
   "execution_count": 57,
   "metadata": {},
   "outputs": [
    {
     "data": {
      "text/plain": [
       "<AxesSubplot:>"
      ]
     },
     "execution_count": 57,
     "metadata": {},
     "output_type": "execute_result"
    },
    {
     "data": {
      "image/png": "[encoded data removed]",
      "text/plain": [
       "<Figure size 432x288 with 1 Axes>"
      ]
     },
     "metadata": {
      "needs_background": "light"
     },
     "output_type": "display_data"
    }
   ],
   "source": [
    "df_train['CAR_AGE'].value_counts(normalize = True).plot(kind = 'bar')"
   ]
  },
  {
   "cell_type": "markdown",
   "metadata": {},
   "source": [
    "# 11. CAR USE"
   ]
  },
  {
   "cell_type": "code",
   "execution_count": 58,
   "metadata": {},
   "outputs": [
    {
     "data": {
      "text/plain": [
       "<AxesSubplot:>"
      ]
     },
     "execution_count": 58,
     "metadata": {},
     "output_type": "execute_result"
    },
    {
     "data": {
      "image/png": "[encoded data removed]",
      "text/plain": [
       "<Figure size 432x288 with 1 Axes>"
      ]
     },
     "metadata": {
      "needs_background": "light"
     },
     "output_type": "display_data"
    }
   ],
   "source": [
    "df_train['CAR_USE'].value_counts(normalize = True).plot(kind = 'bar')"
   ]
  },
  {
   "cell_type": "markdown",
   "metadata": {},
   "source": [
    "# 12. HOMEKIDS"
   ]
  },
  {
   "cell_type": "code",
   "execution_count": 59,
   "metadata": {},
   "outputs": [
    {
     "data": {
      "text/plain": [
       "<AxesSubplot:>"
      ]
     },
     "execution_count": 59,
     "metadata": {},
     "output_type": "execute_result"
    },
    {
     "data": {
      "image/png": "[encoded data removed]",
      "text/plain": [
       "<Figure size 432x288 with 1 Axes>"
      ]
     },
     "metadata": {
      "needs_background": "light"
     },
     "output_type": "display_data"
    }
   ],
   "source": [
    "df_train['HOMEKIDS'].value_counts(normalize = True).plot(kind = 'bar')"
   ]
  },
  {
   "cell_type": "markdown",
   "metadata": {},
   "source": [
    "# 13. REVOKED"
   ]
  },
  {
   "cell_type": "code",
   "execution_count": 60,
   "metadata": {},
   "outputs": [
    {
     "data": {
      "text/plain": [
       "<AxesSubplot:>"
      ]
     },
     "execution_count": 60,
     "metadata": {},
     "output_type": "execute_result"
    },
    {
     "data": {
      "image/png": "[encoded data removed]",
      "text/plain": [
       "<Figure size 432x288 with 1 Axes>"
      ]
     },
     "metadata": {
      "needs_background": "light"
     },
     "output_type": "display_data"
    }
   ],
   "source": [
    "df_train['REVOKED'].value_counts(normalize = True).plot(kind = 'bar')"
   ]
  },
  {
   "cell_type": "code",
   "execution_count": 61,
   "metadata": {},
   "outputs": [],
   "source": [
    "import matplotlib as plt"
   ]
  },
  {
   "cell_type": "code",
   "execution_count": 62,
   "metadata": {},
   "outputs": [
    {
     "data": {
      "text/plain": [
       "<AxesSubplot:>"
      ]
     },
     "execution_count": 62,
     "metadata": {},
     "output_type": "execute_result"
    },
    {
     "data": {
      "image/png": "[encoded data removed]",
      "text/plain": [
       "<Figure size 432x288 with 1 Axes>"
      ]
     },
     "metadata": {
      "needs_background": "light"
     },
     "output_type": "display_data"
    }
   ],
   "source": [
    "df_train['PARENT1'].value_counts(normalize = True).plot(kind = 'bar')"
   ]
  },
  {
   "cell_type": "markdown",
   "metadata": {},
   "source": [
    "# COVERT STR TO INT\n",
    "* INCOME\n",
    "* CLM AMT\n",
    "* BLUEBOOK\n",
    "* HOME VAL"
   ]
  },
  {
   "cell_type": "code",
   "execution_count": 63,
   "metadata": {},
   "outputs": [
    {
     "ename": "ValueError",
     "evalue": "Unable to parse string \"nan\" at position 6",
     "output_type": "error",
     "traceback": [
      "\u001b[1;31m---------------------------------------------------------------------------\u001b[0m",
      "\u001b[1;31mValueError\u001b[0m                                Traceback (most recent call last)",
      "\u001b[1;32mpandas\\_libs\\lib.pyx\u001b[0m in \u001b[0;36mpandas._libs.lib.maybe_convert_numeric\u001b[1;34m()\u001b[0m\n",
      "\u001b[1;31mValueError\u001b[0m: Unable to parse string \"nan\"",
      "\nDuring handling of the above exception, another exception occurred:\n",
      "\u001b[1;31mValueError\u001b[0m                                Traceback (most recent call last)",
      "\u001b[1;32m<ipython-input-63-00c2601abb30>\u001b[0m in \u001b[0;36m<module>\u001b[1;34m\u001b[0m\n\u001b[1;32m----> 1\u001b[1;33m \u001b[0mpd\u001b[0m\u001b[1;33m.\u001b[0m\u001b[0mto_numeric\u001b[0m\u001b[1;33m(\u001b[0m\u001b[0mdf_train\u001b[0m\u001b[1;33m[\u001b[0m\u001b[1;34m'INCOME'\u001b[0m\u001b[1;33m]\u001b[0m\u001b[1;33m)\u001b[0m\u001b[1;33m\u001b[0m\u001b[1;33m\u001b[0m\u001b[0m\n\u001b[0m",
      "\u001b[1;32m~\\anaconda3\\lib\\site-packages\\pandas\\core\\tools\\numeric.py\u001b[0m in \u001b[0;36mto_numeric\u001b[1;34m(arg, errors, downcast)\u001b[0m\n\u001b[0;32m    151\u001b[0m         \u001b[1;32mtry\u001b[0m\u001b[1;33m:\u001b[0m\u001b[1;33m\u001b[0m\u001b[1;33m\u001b[0m\u001b[0m\n\u001b[0;32m    152\u001b[0m             values = lib.maybe_convert_numeric(\n\u001b[1;32m--> 153\u001b[1;33m                 \u001b[0mvalues\u001b[0m\u001b[1;33m,\u001b[0m \u001b[0mset\u001b[0m\u001b[1;33m(\u001b[0m\u001b[1;33m)\u001b[0m\u001b[1;33m,\u001b[0m \u001b[0mcoerce_numeric\u001b[0m\u001b[1;33m=\u001b[0m\u001b[0mcoerce_numeric\u001b[0m\u001b[1;33m\u001b[0m\u001b[1;33m\u001b[0m\u001b[0m\n\u001b[0m\u001b[0;32m    154\u001b[0m             )\n\u001b[0;32m    155\u001b[0m         \u001b[1;32mexcept\u001b[0m \u001b[1;33m(\u001b[0m\u001b[0mValueError\u001b[0m\u001b[1;33m,\u001b[0m \u001b[0mTypeError\u001b[0m\u001b[1;33m)\u001b[0m\u001b[1;33m:\u001b[0m\u001b[1;33m\u001b[0m\u001b[1;33m\u001b[0m\u001b[0m\n",
      "\u001b[1;32mpandas\\_libs\\lib.pyx\u001b[0m in \u001b[0;36mpandas._libs.lib.maybe_convert_numeric\u001b[1;34m()\u001b[0m\n",
      "\u001b[1;31mValueError\u001b[0m: Unable to parse string \"nan\" at position 6"
     ]
    }
   ],
   "source": [
    "pd.to_numeric(df_train['INCOME'])"
   ]
  },
  {
   "cell_type": "code",
   "execution_count": null,
   "metadata": {},
   "outputs": [],
   "source": [
    "# Corr between attributes\n",
    "df_train[['INCOME', 'CLM_AMT', 'BLUEBOOK', 'HOME_VAL']].\\\n",
    "hist(edgecolor='red', linewidth=1.5, figsize=(8, 8))"
   ]
  },
  {
   "cell_type": "code",
   "execution_count": null,
   "metadata": {},
   "outputs": [],
   "source": [
    "Index(['ID', 'KIDSDRIV', 'AGE', 'HOMEKIDS', 'YOJ', 'INCOME', 'PARENT1',\n",
    "       'HOME_VAL', 'MSTATUS', 'GENDER', 'EDUCATION', 'OCCUPATION', 'TRAVTIME',\n",
    "       'CAR_USE', 'BLUEBOOK', 'TIF', 'CAR_TYPE', 'RED_CAR', 'OLDCLAIM',\n",
    "       'CLM_FREQ', 'REVOKED', 'MVR_PTS', 'CLM_AMT', 'CAR_AGE', 'CLAIM_FLAG'],\n",
    "      dtype='object'\n",
    "      'INCOME', 'PARENT1', 'HOME_VAL', 'MSTATUS', 'GENDER', 'EDUCATION',\n",
    "       'OCCUPATION', 'CAR_USE', 'BLUEBOOK', 'CAR_TYPE', 'RED_CAR', 'OLDCLAIM',\n",
    "       'REVOKED', 'CLM_AMT']"
   ]
  },
  {
   "cell_type": "code",
   "execution_count": null,
   "metadata": {},
   "outputs": [],
   "source": [
    "df_train['INCOME'].mode()"
   ]
  },
  {
   "cell_type": "code",
   "execution_count": null,
   "metadata": {},
   "outputs": [],
   "source": [
    "df_train['BLUEBOOK'].value_counts(normalize = True).plot(kind = 'hist')"
   ]
  },
  {
   "cell_type": "code",
   "execution_count": null,
   "metadata": {},
   "outputs": [],
   "source": [
    "df_train = pd.get_dummies(df_train, drop_first=True)"
   ]
  },
  {
   "cell_type": "code",
   "execution_count": null,
   "metadata": {},
   "outputs": [],
   "source": [
    "df_train.head()"
   ]
  },
  {
   "cell_type": "code",
   "execution_count": null,
   "metadata": {},
   "outputs": [],
   "source": [
    "df_train.info()"
   ]
  },
  {
   "cell_type": "code",
   "execution_count": null,
   "metadata": {},
   "outputs": [],
   "source": [
    "# Code starts here\n",
    "\n",
    "\n",
    "\n",
    "\n",
    "\n",
    "\n",
    "\n",
    "\n",
    "\n",
    "\n",
    "\n",
    "# Code ends here."
   ]
  },
  {
   "cell_type": "markdown",
   "metadata": {},
   "source": [
    "### Model building\n",
    "\n",
    "- Separate the features and target.\n",
    "- Now let's come to the actual task, using Decision Tree, predict the `paid.back.loan`. Use different techniques you have learned to imporove the performance of the model.\n",
    "- Try improving upon the `accuracy_score` ([Accuracy Score](https://scikit-learn.org/stable/modules/generated/sklearn.metrics.accuracy_score.html))"
   ]
  },
  {
   "cell_type": "code",
   "execution_count": null,
   "metadata": {},
   "outputs": [],
   "source": [
    "# Code Starts here\n",
    "\n",
    "\n",
    "\n",
    "# Code ends here"
   ]
  },
  {
   "cell_type": "markdown",
   "metadata": {},
   "source": [
    "### Prediction on the test data and creating the sample submission file.\n",
    "\n",
    "- Load the test data and store the `Id` column in a separate variable.\n",
    "- Perform the same operations on the test data that you have performed on the train data.\n",
    "- Create the submission file as a `csv` file consisting of the `Id` column from the test data and your prediction as the second column."
   ]
  },
  {
   "cell_type": "code",
   "execution_count": null,
   "metadata": {},
   "outputs": [],
   "source": [
    "# Code Starts here\n",
    "\n",
    "\n",
    "\n",
    "# Code ends here"
   ]
  }
 ],
 "metadata": {
  "kernelspec": {
   "display_name": "Python 3",
   "language": "python",
   "name": "python3"
  },
  "language_info": {
   "codemirror_mode": {
    "name": "ipython",
    "version": 3
   },
   "file_extension": ".py",
   "mimetype": "text/x-python",
   "name": "python",
   "nbconvert_exporter": "python",
   "pygments_lexer": "ipython3",
   "version": "3.7.6"
  }
 },
 "nbformat": 4,
 "nbformat_minor": 2
}
